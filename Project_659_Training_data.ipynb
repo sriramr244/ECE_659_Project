{
  "cells": [
    {
      "cell_type": "markdown",
      "source": [
        "## Importing all the *libraries*"
      ],
      "metadata": {
        "id": "gvcd_vXfXqBv"
      }
    },
    {
      "cell_type": "code",
      "execution_count": null,
      "metadata": {
        "id": "kOPjiQapCv1n"
      },
      "outputs": [],
      "source": [
        "import pandas as pd\n",
        "import numpy as np\n",
        "from tqdm import tqdm\n",
        "from sklearn.model_selection import train_test_split\n",
        "from tensorflow import keras\n",
        "from keras.models import Sequential\n",
        "from keras.layers import Dense\n",
        "from keras.layers import LSTM\n",
        "from keras.layers import Dropout\n",
        "from keras.layers import *\n",
        "import random\n",
        "import matplotlib.pyplot as plt\n",
        "import json\n",
        "import os\n",
        "import math\n",
        "import warnings\n",
        "warnings.filterwarnings('ignore' )"
      ]
    },
    {
      "cell_type": "markdown",
      "source": [
        "## Graph visualizations and saving the figure obtained"
      ],
      "metadata": {
        "id": "jY_3QvnrXvW1"
      }
    },
    {
      "cell_type": "code",
      "execution_count": null,
      "metadata": {
        "id": "WfLWRMIpdTqS"
      },
      "outputs": [],
      "source": [
        "c=['r','g']\n",
        "\n",
        "for file in glob.glob(\"json_data/*.json\"):\n",
        "\tf = open(file)\n",
        "\tdata = json.load(f)\n",
        "\ty = data['rot_acc_y']\n",
        "\tx = data['rot_acc_x']\n",
        "\tz = data['rot_acc_z']\n",
        "\n",
        "\n",
        "\tplt.plot(range(0,len(z)), z)\n",
        "\tj = 0\n",
        "\tstart = 0\n",
        "\tend = 0\n",
        "\tfor i in data['anomalies']:\n",
        "\t\tstart.append([data['rot_acc_x'][i['start']], data['rot_acc_y'][i['start']], data['rot_acc_z'][i['start']]])\n",
        "\n",
        "\t\tz1 = data['rot_acc_z'][i['start']:i['end']+1]\n",
        "\t\tcoord = range(i['start'], i['end']+1)\n",
        "\n",
        "\t\tplt.scatter(coord,z1,color =c[j%2], marker ='o', s=100)\n",
        "\t\tj+=1\n",
        "\n",
        "\n",
        "\tplt.savefig('images/'+file.split('.')[0]+'.png')\n",
        "\tplt.close()"
      ]
    },
    {
      "cell_type": "markdown",
      "source": [
        "## Preparing the Training data "
      ],
      "metadata": {
        "id": "yUNSTMBdYCl0"
      }
    },
    {
      "cell_type": "code",
      "execution_count": null,
      "metadata": {
        "id": "__uXktAehJGT"
      },
      "outputs": [],
      "source": [
        "def read_json():\n",
        "  df = pd.DataFrame()\n",
        "  x =[]\n",
        "  y = []\n",
        "  z = []\n",
        "  pot_hole =[]\n",
        "  speed_ranges = []\n",
        "  #runs through 30 json files\n",
        "  for file in glob.glob(\"*.json\"):\n",
        "    f = open(file)\n",
        "    data = json.load(f)\n",
        "    y += data['rot_acc_y']\n",
        "    x += data['rot_acc_x']\n",
        "    z += data['rot_acc_z']\n",
        "    pot_ranges =[]\n",
        "    for i in data['anomalies']:\n",
        "      #defining the range of the potholes\n",
        "      pot_ranges+=[j for j in range(i['start'],i['end']+1)]\n",
        "    for i in range(0,len(z)):\n",
        "    #annotation of potholes\n",
        "      if i in pot_ranges:\n",
        "          pot_hole.append(1)\n",
        "      else:\n",
        "          pot_hole.append(0)\n",
        "    for i in data['speed']:\n",
        "      speed_ranges+=[i['speed'] for j in range(i['start'],i['end']+1)]\n",
        "  df['pothole']=pot_hole\n",
        "  df['speed'] = speed_ranges\n",
        "  df['y'], df['x'], df['z'] = y, x, z\n",
        "  # saving to a csv file\n",
        "  df.to_csv('data/Training_data.csv')\n",
        "  return"
      ]
    },
    {
      "cell_type": "markdown",
      "source": [
        "# Reading the prepared data"
      ],
      "metadata": {
        "id": "IzSySgJoYNHg"
      }
    },
    {
      "cell_type": "code",
      "execution_count": null,
      "metadata": {
        "id": "LE_i2tx9g1M3"
      },
      "outputs": [],
      "source": [
        "df = pd.read_csv('data/Training_data.csv', index_col=0)"
      ]
    },
    {
      "cell_type": "markdown",
      "source": [
        "#Function to create windows of data"
      ],
      "metadata": {
        "id": "H-Ft9fkTYXbK"
      }
    },
    {
      "cell_type": "code",
      "execution_count": null,
      "metadata": {
        "id": "nwUB9W4XDGXw"
      },
      "outputs": [],
      "source": [
        "def create_data(df, load_list, label=0):\n",
        "  num = len(df)\n",
        "  list_data = []\n",
        "  i = 0\n",
        "  while i+150 <= num:\n",
        "    train_data=[]\n",
        "    if label == 1:\n",
        "      train_data = df[load_list].loc[i:i+150].to_numpy().flatten()\n",
        "      if np.average(train_data)>=0.5:\n",
        "        list_data.append(1)\n",
        "      else:\n",
        "        list_data.append(0)\n",
        "    else:\n",
        "      train_data = df[load_list].loc[i:i+150].to_numpy().flatten()\n",
        "      list_data.append(train_data)\n",
        "    i = i+1\n",
        "  print('converting list to array')\n",
        "  list_data = np.array(list_data)\n",
        "  return list_data\n",
        "\n",
        "\n",
        "def create_data2(df, load_list , vector_len = 150, label=0):\n",
        "  num = len(df)\n",
        "  if label==1:\n",
        "    return [np.average(np.array(df[load_list].loc[i:i+vector_len-1].values)) for i in tqdm(range(num-vector_len+1))]\n",
        "  return {i:np.array(df[load_list].loc[i:i+vector_len-1].values) for i in tqdm(range(num-vector_len+1))}"
      ]
    },
    {
      "cell_type": "markdown",
      "source": [
        "#Creating the windows of datapoints with its labels and saving "
      ],
      "metadata": {
        "id": "I5uwbiRNYdbB"
      }
    },
    {
      "cell_type": "code",
      "execution_count": null,
      "metadata": {
        "colab": {
          "base_uri": "https://localhost:8080/"
        },
        "id": "-TDmKqaaWVhx",
        "outputId": "4ff6ae7c-c2bb-425f-8559-f1e57d851a78"
      },
      "outputs": [
        {
          "name": "stderr",
          "output_type": "stream",
          "text": [
            "100%|██████████| 404692/404692 [13:08<00:00, 513.06it/s]\n",
            "100%|██████████| 404692/404692 [12:30<00:00, 539.37it/s]\n"
          ]
        }
      ],
      "source": [
        "train_x = create_data2(df,['x','y','z','speed'], vector_len=200)\n",
        "train_x = [train_x[i] for i in range(0,len(train_x))]\n",
        "np.save('data/train_x_data.npy',np.array(train_x))\n",
        "train_y = create_data2(df,['pothole'], vector_len=200, label =1)\n",
        "a = np.array(train_y)\n",
        "a[a>=0.5]=1\n",
        "a[a<0.5] = 0\n",
        "np.save('data/train_y_data.npy', a)"
      ]
    },
    {
      "cell_type": "markdown",
      "source": [
        "#Creating the model"
      ],
      "metadata": {
        "id": "SNMLx0uAY6ZN"
      }
    },
    {
      "cell_type": "code",
      "execution_count": null,
      "metadata": {
        "colab": {
          "base_uri": "https://localhost:8080/"
        },
        "id": "unNv93rBbzce",
        "outputId": "e62514fd-f6a9-4c4a-8d41-105d03b196ae"
      },
      "outputs": [
        {
          "name": "stdout",
          "output_type": "stream",
          "text": [
            "Model: \"sequential\"\n",
            "_________________________________________________________________\n",
            " Layer (type)                Output Shape              Param #   \n",
            "=================================================================\n",
            " lstm (LSTM)                 (None, 200, 32)           4736      \n",
            "                                                                 \n",
            " dropout (Dropout)           (None, 200, 32)           0         \n",
            "                                                                 \n",
            " lstm_1 (LSTM)               (None, 200, 32)           8320      \n",
            "                                                                 \n",
            " dropout_1 (Dropout)         (None, 200, 32)           0         \n",
            "                                                                 \n",
            " lstm_2 (LSTM)               (None, 200, 32)           8320      \n",
            "                                                                 \n",
            " dropout_2 (Dropout)         (None, 200, 32)           0         \n",
            "                                                                 \n",
            " lstm_3 (LSTM)               (None, 16)                3136      \n",
            "                                                                 \n",
            " dropout_3 (Dropout)         (None, 16)                0         \n",
            "                                                                 \n",
            " dense (Dense)               (None, 16)                272       \n",
            "                                                                 \n",
            " dropout_4 (Dropout)         (None, 16)                0         \n",
            "                                                                 \n",
            " dense_1 (Dense)             (None, 1)                 17        \n",
            "                                                                 \n",
            "=================================================================\n",
            "Total params: 24,801\n",
            "Trainable params: 24,801\n",
            "Non-trainable params: 0\n",
            "_________________________________________________________________\n"
          ]
        }
      ],
      "source": [
        "model = Sequential()\n",
        "\n",
        "# Add 4 layers of LSTM\n",
        "# First Layer\n",
        "model.add(LSTM(units = 32, return_sequences = True, input_shape = (200, 4)))\n",
        "model.add(Dropout(0.2))\n",
        "\n",
        "# Second Layer\n",
        "model.add(LSTM(units = 32, return_sequences = True))\n",
        "model.add(Dropout(0.2))\n",
        "\n",
        "# Third Layer\n",
        "model.add(LSTM(units = 32, return_sequences = True))\n",
        "model.add(Dropout(0.2))\n",
        "\n",
        "# Fourth Layer\n",
        "model.add(LSTM(units = 16, return_sequences = False))\n",
        "model.add(Dropout(0.2))\n",
        "\n",
        "# Dense layer\n",
        "model.add(Dense(units = 16, activation ='sigmoid'))\n",
        "model.add(Dropout(0.2))\n",
        "# Dense layer\n",
        "model.add(Dense(units = 1, activation ='sigmoid'))\n",
        "\n",
        "model.summary()"
      ]
    },
    {
      "cell_type": "markdown",
      "source": [
        "#Compiling the model"
      ],
      "metadata": {
        "id": "T77r5S6MY-Uf"
      }
    },
    {
      "cell_type": "code",
      "execution_count": null,
      "metadata": {
        "id": "ty2om3rAc-I3"
      },
      "outputs": [],
      "source": [
        "model.compile(optimizer='adam',\n",
        "                loss='binary_crossentropy',\n",
        "                metrics=['acc'])\n",
        "reduce_lr = keras.callbacks.ReduceLROnPlateau(monitor='val_loss', factor=0.2,\n",
        "                                patience=2, min_lr=0.0001)"
      ]
    },
    {
      "cell_type": "markdown",
      "source": [
        "#Loading the training data and labels"
      ],
      "metadata": {
        "id": "8eYp7oiWZGFn"
      }
    },
    {
      "cell_type": "code",
      "execution_count": null,
      "metadata": {
        "id": "qoecg7J2NBh4"
      },
      "outputs": [],
      "source": [
        "train_x = np.load('data/train_x_eq_data.npy')\n",
        "train_y = np.load('data/train_y_eq_data.npy')\n",
        "Train_X, X_val, Train_Y, Y_val = train_test_split(train_x, train_y, test_size=0.3)"
      ]
    },
    {
      "cell_type": "code",
      "execution_count": null,
      "metadata": {
        "colab": {
          "base_uri": "https://localhost:8080/"
        },
        "id": "JwfrRl3L0kn1",
        "outputId": "33eda770-5cb8-4177-9624-e7f3c4f6949e"
      },
      "outputs": [
        {
          "name": "stdout",
          "output_type": "stream",
          "text": [
            "Length of training data:  71388\n",
            "Length of Validation data:  30596\n"
          ]
        }
      ],
      "source": [
        "print('Length of training data: ',len(Train_X))\n",
        "print('Length of Validation data: ',len(X_val))"
      ]
    },
    {
      "cell_type": "code",
      "execution_count": null,
      "metadata": {
        "colab": {
          "base_uri": "https://localhost:8080/"
        },
        "id": "wIogASdkkqC6",
        "outputId": "4432f797-193d-44d7-948a-185b8dc2093e"
      },
      "outputs": [
        {
          "data": {
            "text/plain": [
              "101984"
            ]
          },
          "execution_count": 5,
          "metadata": {},
          "output_type": "execute_result"
        }
      ],
      "source": [
        "len(train_x)"
      ]
    },
    {
      "cell_type": "markdown",
      "source": [
        "#Training the model and saving it"
      ],
      "metadata": {
        "id": "zllto6E8ZNjx"
      }
    },
    {
      "cell_type": "code",
      "execution_count": null,
      "metadata": {
        "colab": {
          "base_uri": "https://localhost:8080/"
        },
        "id": "jRYTeOcLc3_f",
        "outputId": "b1cd5f6e-8f6d-49d4-ed32-d60376b04f80"
      },
      "outputs": [
        {
          "name": "stdout",
          "output_type": "stream",
          "text": [
            "Epoch 1/25\n",
            "140/140 [==============================] - 19s 57ms/step - loss: 0.6320 - acc: 0.6272 - val_loss: 0.5796 - val_acc: 0.6748 - lr: 0.0010\n",
            "Epoch 2/25\n",
            "140/140 [==============================] - 7s 47ms/step - loss: 0.5697 - acc: 0.6813 - val_loss: 0.5581 - val_acc: 0.6790 - lr: 0.0010\n",
            "Epoch 3/25\n",
            "140/140 [==============================] - 7s 48ms/step - loss: 0.5406 - acc: 0.7227 - val_loss: 0.4827 - val_acc: 0.7769 - lr: 0.0010\n",
            "Epoch 4/25\n",
            "140/140 [==============================] - 7s 47ms/step - loss: 0.4983 - acc: 0.7601 - val_loss: 0.5307 - val_acc: 0.7191 - lr: 0.0010\n",
            "Epoch 5/25\n",
            "140/140 [==============================] - 7s 47ms/step - loss: 0.5078 - acc: 0.7519 - val_loss: 0.4608 - val_acc: 0.7945 - lr: 0.0010\n",
            "Epoch 6/25\n",
            "140/140 [==============================] - 7s 50ms/step - loss: 0.4667 - acc: 0.7868 - val_loss: 0.4302 - val_acc: 0.8062 - lr: 0.0010\n",
            "Epoch 7/25\n",
            "140/140 [==============================] - 6s 46ms/step - loss: 0.4262 - acc: 0.8098 - val_loss: 0.3904 - val_acc: 0.8268 - lr: 0.0010\n",
            "Epoch 8/25\n",
            "140/140 [==============================] - 7s 47ms/step - loss: 0.3815 - acc: 0.8323 - val_loss: 0.3420 - val_acc: 0.8469 - lr: 0.0010\n",
            "Epoch 9/25\n",
            "140/140 [==============================] - 7s 47ms/step - loss: 0.3462 - acc: 0.8502 - val_loss: 0.2999 - val_acc: 0.8760 - lr: 0.0010\n",
            "Epoch 10/25\n",
            "140/140 [==============================] - 7s 47ms/step - loss: 0.3170 - acc: 0.8668 - val_loss: 0.2911 - val_acc: 0.8787 - lr: 0.0010\n",
            "Epoch 11/25\n",
            "140/140 [==============================] - 7s 48ms/step - loss: 0.2876 - acc: 0.8817 - val_loss: 0.2679 - val_acc: 0.8867 - lr: 0.0010\n",
            "Epoch 12/25\n",
            "140/140 [==============================] - 7s 47ms/step - loss: 0.2800 - acc: 0.8835 - val_loss: 0.2398 - val_acc: 0.9002 - lr: 0.0010\n",
            "Epoch 13/25\n",
            "140/140 [==============================] - 7s 47ms/step - loss: 0.2608 - acc: 0.8967 - val_loss: 0.2372 - val_acc: 0.9069 - lr: 0.0010\n",
            "Epoch 14/25\n",
            "140/140 [==============================] - 6s 46ms/step - loss: 0.2552 - acc: 0.8998 - val_loss: 0.2216 - val_acc: 0.9113 - lr: 0.0010\n",
            "Epoch 15/25\n",
            "140/140 [==============================] - 7s 47ms/step - loss: 0.2271 - acc: 0.9098 - val_loss: 0.1970 - val_acc: 0.9234 - lr: 0.0010\n",
            "Epoch 16/25\n",
            "140/140 [==============================] - 7s 47ms/step - loss: 0.2047 - acc: 0.9211 - val_loss: 0.2021 - val_acc: 0.9246 - lr: 0.0010\n",
            "Epoch 17/25\n",
            "140/140 [==============================] - 7s 47ms/step - loss: 0.1990 - acc: 0.9228 - val_loss: 0.1738 - val_acc: 0.9330 - lr: 0.0010\n",
            "Epoch 18/25\n",
            "140/140 [==============================] - 7s 47ms/step - loss: 0.1937 - acc: 0.9272 - val_loss: 0.1646 - val_acc: 0.9386 - lr: 0.0010\n",
            "Epoch 19/25\n",
            "140/140 [==============================] - 7s 47ms/step - loss: 0.1713 - acc: 0.9349 - val_loss: 0.1569 - val_acc: 0.9417 - lr: 0.0010\n",
            "Epoch 20/25\n",
            "140/140 [==============================] - 7s 47ms/step - loss: 0.1735 - acc: 0.9353 - val_loss: 0.1398 - val_acc: 0.9487 - lr: 0.0010\n",
            "Epoch 21/25\n",
            "140/140 [==============================] - 7s 47ms/step - loss: 0.1497 - acc: 0.9448 - val_loss: 0.1263 - val_acc: 0.9519 - lr: 0.0010\n",
            "Epoch 22/25\n",
            "140/140 [==============================] - 7s 47ms/step - loss: 0.1501 - acc: 0.9447 - val_loss: 0.1120 - val_acc: 0.9594 - lr: 0.0010\n",
            "Epoch 23/25\n",
            "140/140 [==============================] - 7s 47ms/step - loss: 0.1520 - acc: 0.9438 - val_loss: 0.1315 - val_acc: 0.9487 - lr: 0.0010\n",
            "Epoch 24/25\n",
            "140/140 [==============================] - 7s 47ms/step - loss: 0.1324 - acc: 0.9515 - val_loss: 0.1169 - val_acc: 0.9565 - lr: 0.0010\n",
            "Epoch 25/25\n",
            "140/140 [==============================] - 7s 47ms/step - loss: 0.1056 - acc: 0.9621 - val_loss: 0.0860 - val_acc: 0.9691 - lr: 2.0000e-04\n"
          ]
        }
      ],
      "source": [
        "history = model.fit(Train_X,Train_Y,\n",
        "                        epochs=25,\n",
        "                        validation_data=(X_val, Y_val), callbacks = [reduce_lr],\n",
        "                        verbose=1, batch_size = 512)\n",
        "\n",
        "model.save('data/LSTM_model.h5')"
      ]
    },
    {
      "cell_type": "code",
      "execution_count": null,
      "metadata": {
        "colab": {
          "base_uri": "https://localhost:8080/",
          "height": 295
        },
        "id": "xFX-JRjdPTeh",
        "outputId": "35bc2058-5a2f-48f3-ca3f-0676cc95f96f"
      },
      "outputs": [
        {
          "data": {
            "image/png": "[encoded data removed]",
            "text/plain": [
              "<Figure size 432x288 with 1 Axes>"
            ]
          },
          "metadata": {},
          "output_type": "display_data"
        }
      ],
      "source": [
        "plt.plot(history.history['acc'])\n",
        "plt.plot(history.history['val_acc'])\n",
        "plt.title('model accuracy')\n",
        "plt.ylabel('accuracy')\n",
        "plt.xlabel('epoch')\n",
        "plt.legend(['train', 'val'], loc='upper left')\n",
        "plt.show()"
      ]
    },
    {
      "cell_type": "code",
      "execution_count": null,
      "metadata": {
        "colab": {
          "base_uri": "https://localhost:8080/",
          "height": 295
        },
        "id": "fH2A7nPKPWHy",
        "outputId": "d8922947-f2f7-4956-d5d2-e837f3d95ae9"
      },
      "outputs": [
        {
          "data": {
            "image/png": "[encoded data removed]",
            "text/plain": [
              "<Figure size 432x288 with 1 Axes>"
            ]
          },
          "metadata": {},
          "output_type": "display_data"
        }
      ],
      "source": [
        "plt.plot(history.history['loss'])\n",
        "plt.plot(history.history['val_loss'])\n",
        "plt.title('model loss')\n",
        "plt.ylabel('loss')\n",
        "plt.xlabel('epoch')\n",
        "plt.legend(['train', 'val'], loc='upper left')\n",
        "plt.show()"
      ]
    },
    {
      "cell_type": "markdown",
      "source": [
        "#Load the testing data"
      ],
      "metadata": {
        "id": "nFUhMbsbZay4"
      }
    },
    {
      "cell_type": "code",
      "execution_count": null,
      "metadata": {
        "id": "gTdqhL0Fin4B"
      },
      "outputs": [],
      "source": [
        "df_test = pd.read_csv('data/Testing_data.csv', index_col=0)"
      ]
    },
    {
      "cell_type": "markdown",
      "source": [
        "#Convert the testing data into windowed data"
      ],
      "metadata": {
        "id": "J75V9kExZd_n"
      }
    },
    {
      "cell_type": "code",
      "execution_count": null,
      "metadata": {
        "colab": {
          "base_uri": "https://localhost:8080/"
        },
        "id": "CG8c_JT2i8nf",
        "outputId": "ec8da22b-d081-4692-e27f-b134e957d32f"
      },
      "outputs": [
        {
          "name": "stderr",
          "output_type": "stream",
          "text": [
            "100%|██████████| 694471/694471 [48:02<00:00, 240.96it/s]\n",
            "100%|██████████| 694471/694471 [32:21<00:00, 357.62it/s]\n"
          ]
        }
      ],
      "source": [
        "testing_x = create_data2(df_test,['x','y','z','speed'], vector_len=200)\n",
        "testing_x = [testing_x[i] for i in range(0,len(testing_x))]\n",
        "np.save('data/test_x_data.npy',np.array(testing_x))\n",
        "\n",
        "testing_y = create_data2(df_test,['pothole'], vector_len=200, label =1)\n",
        "a_t = np.array(testing_y)\n",
        "a_t[a_t>=0.5]=1\n",
        "a_t[a_t<0.5] = 0\n",
        "np.save('data/test_y_data.npy', a_t)\n"
      ]
    },
    {
      "cell_type": "markdown",
      "source": [
        "#Load the testing data and model"
      ],
      "metadata": {
        "id": "V9Iln_JrZlXL"
      }
    },
    {
      "cell_type": "code",
      "execution_count": null,
      "metadata": {
        "id": "6kp9tFRe7wDa"
      },
      "outputs": [],
      "source": [
        "test_x = np.load('data/test_x_data.npy')\n",
        "test_y = np.load('data/test_y_data.npy')\n",
        "model = keras.models.load_model('data/LSTM_model.h5')"
      ]
    },
    {
      "cell_type": "markdown",
      "source": [
        "To generalize the data with pothole and without pothole has been made equal"
      ],
      "metadata": {
        "id": "LOxnaqd5Zu-i"
      }
    },
    {
      "cell_type": "code",
      "execution_count": null,
      "metadata": {
        "id": "f27mHsai8FdE"
      },
      "outputs": [],
      "source": [
        "with_pot_x=[]\n",
        "with_pot_y=[]\n",
        "without_pot_x=[]\n",
        "without_pot_y=[]\n",
        "add_wop = False\n",
        "for i in range(0,len(test_y)):\n",
        "  if test_y[i] ==1:\n",
        "    with_pot_x.append(test_x[i])\n",
        "    with_pot_y.append(test_y[i])\n",
        "  if test_y[i] == 0 and (len(without_pot_x)<91662):\n",
        "    without_pot_x.append(test_x[i])\n",
        "    without_pot_y.append(test_y[i])\n",
        "    add_wop = False\n",
        "\n",
        "with_pot_x= np.array(with_pot_x)\n",
        "with_pot_y = np.array(with_pot_y)\n",
        "without_pot_x = np.array(without_pot_x)\n",
        "without_pot_y = np.array(without_pot_y)"
      ]
    },
    {
      "cell_type": "code",
      "execution_count": null,
      "metadata": {
        "colab": {
          "base_uri": "https://localhost:8080/"
        },
        "id": "oEzKl2Apot34",
        "outputId": "874af87a-d694-40bf-a814-908837e7af31"
      },
      "outputs": [
        {
          "name": "stdout",
          "output_type": "stream",
          "text": [
            "The test data labelled with pothole 91662\n",
            "The test data labelled without pothole 91662\n"
          ]
        }
      ],
      "source": [
        "print('The test data labelled with pothole',len(with_pot_x))\n",
        "print('The test data labelled without pothole',len(without_pot_x))"
      ]
    },
    {
      "cell_type": "markdown",
      "source": [
        "#Testing the model"
      ],
      "metadata": {
        "id": "TGMpoyEgZ6CF"
      }
    },
    {
      "cell_type": "code",
      "execution_count": null,
      "metadata": {
        "colab": {
          "base_uri": "https://localhost:8080/"
        },
        "id": "6CeA6ytKYfQx",
        "outputId": "80229076-1e2d-441a-b8c4-2d0a546020cb"
      },
      "outputs": [
        {
          "name": "stdout",
          "output_type": "stream",
          "text": [
            "2865/2865 [==============================] - 36s 12ms/step - loss: 0.3142 - acc: 0.9002\n",
            "2865/2865 [==============================] - 35s 12ms/step - loss: 0.1174 - acc: 0.9562\n",
            "True Positive: 82516\n",
            "False Positive: 9145\n",
            "True Negative: 87650\n",
            "False Negative: 4011\n"
          ]
        }
      ],
      "source": [
        "P_score = model.evaluate(with_pot_x,with_pot_y)\n",
        "N_score = model.evaluate(without_pot_x, without_pot_y)\n",
        "print('True Positive: '+ str(int(P_score[1]*len(with_pot_x))))\n",
        "print('False Positive: '+ str(int((1-P_score[1])*len(with_pot_x))))\n",
        "print('True Negative: '+ str(int(N_score[1]*len(without_pot_x))))\n",
        "print('False Negative: '+ str(int((1-N_score[1])*len(without_pot_x))))"
      ]
    },
    {
      "cell_type": "code",
      "execution_count": null,
      "metadata": {
        "colab": {
          "base_uri": "https://localhost:8080/"
        },
        "id": "lZponorLws8i",
        "outputId": "2d23ab04-05c8-4c22-a62e-7cf329c1cdb1"
      },
      "outputs": [
        {
          "name": "stdout",
          "output_type": "stream",
          "text": [
            "             Performance Metrics\n",
            "Precision:  0.953644527141817\n",
            "Negative Predictive Value:  0.9055219794410868\n",
            "Accuracy:  92.82355636530258%\n",
            "Specificity:  0.9562409312575687\n",
            "Sensitivy:  0.900230196048483\n"
          ]
        }
      ],
      "source": [
        "TP = int(P_score[1]*len(with_pot_x))\n",
        "FN = int((1-P_score[1])*len(with_pot_x))\n",
        "FP = int((1-N_score[1])*len(without_pot_x))\n",
        "TN = int(N_score[1]*len(without_pot_x))\n",
        "print('             Performance Metrics')\n",
        "print('Precision: ', TP/(TP+FP))\n",
        "print('Negative Predictive Value: ', TN/(TN+FN))\n",
        "print('Accuracy: ', str(((TP+TN)/(TP+TN+FP+FN))*100)+'%')\n",
        "print('Specificity: ', TN/(TN+FP))\n",
        "print('Sensitivy: ', TP/(TP+FN))"
      ]
    },
    {
      "cell_type": "markdown",
      "source": [
        "#Plotting Speed vs variance along z axis"
      ],
      "metadata": {
        "id": "ACkXDEGQZ_8_"
      }
    },
    {
      "cell_type": "code",
      "execution_count": null,
      "metadata": {
        "colab": {
          "base_uri": "https://localhost:8080/",
          "height": 295
        },
        "id": "2Ae_N3VcTqzc",
        "outputId": "e9d15003-26a6-4705-fb5c-162e6a8f9bf1"
      },
      "outputs": [
        {
          "data": {
            "image/png": "[encoded data removed]",
            "text/plain": [
              "<Figure size 432x288 with 1 Axes>"
            ]
          },
          "metadata": {},
          "output_type": "display_data"
        }
      ],
      "source": [
        "from numpy import arange\n",
        "from pandas import read_csv\n",
        "from scipy.optimize import curve_fit\n",
        "from matplotlib import pyplot\n",
        "\n",
        "# define the true objective function\n",
        "def objective(x, a, b, c, d, e, f):\n",
        "\treturn (a * x) + (b * x**2) + (c * x**3) + (d * x**4) + (e * x**5) + f\n",
        "\n",
        "\n",
        "\n",
        "# curve fit\n",
        "popt, _ = curve_fit(objective, x, y)\n",
        "# summarize the parameter values\n",
        "a, b, c, d, e, f= popt\n",
        "# plot input vs output\n",
        "pyplot.scatter(x, y)\n",
        "# define a sequence of inputs between the smallest and largest known inputs\n",
        "x_line = arange(min(x), max(x), 1)\n",
        "# calculate the output for the range\n",
        "y_line = objective(x_line, a, b, c, d, e, f)\n",
        "print(str(a)+'x'+str(b+'x^2')\n",
        "# create a line plot for the mapping function\n",
        "pyplot.plot(x_line, y_line, '--', color='red')\n",
        "pyplot.xlabel('Speed')\n",
        "pyplot.ylabel('Variance of acceleration along z')\n",
        "pyplot.title('Var(az) vs Speed')\n",
        "pyplot.show()\n"
      ]
    },
    {
      "cell_type": "markdown",
      "source": [
        "#Function for reorientation of the axis "
      ],
      "metadata": {
        "id": "RB4rHriEaRaK"
      }
    },
    {
      "cell_type": "code",
      "execution_count": null,
      "metadata": {
        "id": "AFVhLhIxZ-Ic"
      },
      "outputs": [],
      "source": [
        "def transform(ax,ay,az):\n",
        "  ax = ax/9.8\n",
        "  ay = ay/9.8\n",
        "  az = az/9.8\n",
        "  if az>=1.00:\n",
        "    return ax*9.8,ay*9.8,az*9.8\n",
        "  else:\n",
        "    theta =np.rad2deg(np.arccos(az))\n",
        "    cos_theta = np.cos(np.deg2rad(theta))\n",
        "    sin_theta = np.sin(np.deg2rad(theta))\n",
        "    try:\n",
        "      phi = np.rad2deg(np.arctan(ay/ax))\n",
        "    except:\n",
        "      phi = np.rad2deg(np.arctan(0))\n",
        "    sin_phi = np.sin(np.deg2rad(phi))\n",
        "    cos_phi = np.cos(np.deg2rad(phi))\n",
        "    num = (ay*cos_phi)-(ax*sin_phi)\n",
        "    den = (((ax*cos_phi)+(ay*sin_phi))*cos_theta) - (az * sin_theta)\n",
        "    sih = np.rad2deg(np.arctan(num/den))\n",
        "    sin_sih = np.sin(np.deg2rad(sih))\n",
        "    cos_sih = np.cos(np.deg2rad(sih))\n",
        "    atx = (ax*cos_phi*cos_theta*cos_sih) + (ay*sin_phi*cos_theta*cos_sih) - (az*sin_theta*cos_sih) + (ay*cos_phi*sin_sih) - (ax*sin_phi*sin_sih)\n",
        "    aty = (ay*cos_phi*cos_sih)-(ax*sin_phi*cos_sih)-(ax*cos_phi*cos_theta*sin_sih)-(ay*sin_phi*cos_theta*sin_sih)+(az*sin_theta*sin_sih)\n",
        "    atz = (ax*cos_phi*sin_theta)+(ay*sin_phi*sin_theta)+(az*cos_theta)\n",
        "\n",
        "    return atx*9.8,aty*9.8,atz*9.8"
      ]
    },
    {
      "cell_type": "code",
      "execution_count": null,
      "metadata": {
        "id": "l4BbxWgaOYkf"
      },
      "outputs": [],
      "source": [
        "ax = 0.2776\n",
        "ay = 8.1703\n",
        "az = 4.346\n",
        "speed = 110.23"
      ]
    },
    {
      "cell_type": "code",
      "execution_count": null,
      "metadata": {
        "id": "fXzmr2JhkgZ5"
      },
      "outputs": [],
      "source": [
        "anx, any, anz = transform(ax,ay,az)"
      ]
    },
    {
      "cell_type": "code",
      "execution_count": null,
      "metadata": {
        "id": "YVlmtoUwm5aI"
      },
      "outputs": [],
      "source": [
        "model = keras.models.load_model('data/LSTM_model.h5')"
      ]
    },
    {
      "cell_type": "markdown",
      "source": [
        "#Reading the real world data collected"
      ],
      "metadata": {
        "id": "q6Rfyb9laabz"
      }
    },
    {
      "cell_type": "code",
      "execution_count": null,
      "metadata": {
        "id": "K44S6FiXnDCA"
      },
      "outputs": [],
      "source": [
        "test_dd =pd.read_excel('data/waterlootoGTA.xls')"
      ]
    },
    {
      "cell_type": "markdown",
      "source": [
        "#Deployed code"
      ],
      "metadata": {
        "id": "5kkx_kfSagZB"
      }
    },
    {
      "cell_type": "code",
      "execution_count": null,
      "metadata": {
        "colab": {
          "background_save": true,
          "base_uri": "https://localhost:8080/"
        },
        "id": "FO2Ru6Et1DX-",
        "outputId": "36424451-fe0c-42cd-f2be-88ead9d67434"
      },
      "outputs": [
        {
          "name": "stdout",
          "output_type": "stream",
          "text": [
            "------------------------Turning on pothole detector------------------------\n"
          ]
        },
        {
          "name": "stderr",
          "output_type": "stream",
          "text": [
            "  2%|▏         | 201/9393 [00:00<00:06, 1419.17it/s]"
          ]
        },
        {
          "name": "stdout",
          "output_type": "stream",
          "text": [
            "\n",
            "-----------------Pothole detected in the below location------------------\n",
            "                   Latitude:  43.449944800000004\n",
            "                  Longitude:  -80.17813339\n",
            "                  Confidence:  [0.90115213]\n"
          ]
        },
        {
          "name": "stderr",
          "output_type": "stream",
          "text": [
            " 62%|██████▏   | 5827/9393 [04:31<02:51, 20.73it/s]"
          ]
        },
        {
          "name": "stdout",
          "output_type": "stream",
          "text": [
            "\n",
            "-----------------Pothole detected in the below location------------------\n",
            "                   Latitude:  43.64042338499999\n",
            "                  Longitude:  -79.38149322000001\n",
            "                  Confidence:  [0.9926852]\n"
          ]
        },
        {
          "name": "stderr",
          "output_type": "stream",
          "text": [
            " 79%|███████▉  | 7424/9393 [05:47<01:32, 21.20it/s]"
          ]
        },
        {
          "name": "stdout",
          "output_type": "stream",
          "text": [
            "\n",
            "-----------------Pothole detected in the below location------------------\n",
            "                   Latitude:  43.650318865\n",
            "                  Longitude:  -79.37882162\n",
            "                  Confidence:  [0.9608619]\n"
          ]
        },
        {
          "name": "stderr",
          "output_type": "stream",
          "text": [
            " 83%|████████▎ | 7757/9393 [06:03<01:16, 21.39it/s]"
          ]
        },
        {
          "name": "stdout",
          "output_type": "stream",
          "text": [
            "\n",
            "-----------------Pothole detected in the below location------------------\n",
            "                   Latitude:  43.65574179\n",
            "                  Longitude:  -79.37558203\n",
            "                  Confidence:  [0.91613406]\n"
          ]
        },
        {
          "name": "stderr",
          "output_type": "stream",
          "text": [
            "100%|██████████| 9393/9393 [07:21<00:00, 21.30it/s]"
          ]
        },
        {
          "name": "stdout",
          "output_type": "stream",
          "text": [
            "\n",
            "Detected 4 potholes\n",
            "------------------------Turning off pothole detector------------------------\n"
          ]
        },
        {
          "name": "stderr",
          "output_type": "stream",
          "text": [
            "\n"
          ]
        }
      ],
      "source": [
        "data = []\n",
        "gps_Lat = []\n",
        "gps_Long = []\n",
        "old_lat = 0\n",
        "old_long = 0\n",
        "print('------------------------Turning on pothole detector------------------------')\n",
        "pot = 0\n",
        "for i in tqdm(range(0,len(test_dd))):\n",
        "  row = test_dd.iloc[i]\n",
        "  d = []\n",
        "  x = row['ACCELEROMETER X (m/s¬≤)']\n",
        "  y = row['ACCELEROMETER Y (m/s¬≤)']\n",
        "  z = row['ACCELEROMETER Z (m/s¬≤)']\n",
        "  nx, ny, nz = transform(x,y,z)\n",
        "  speed = row['LOCATION Speed ( Kmh)']\n",
        "  Lat = row['LOCATION Latitude : ']\n",
        "  Lon = row['LOCATION Longitude : ']\n",
        "  data.append(np.array([nx,ny,nz,speed]))\n",
        "  gps_Lat.append(Lat)\n",
        "  gps_Long.append(Lon)\n",
        "  d.append(np.array(data))\n",
        "  if len(data)<200:  \n",
        "    continue\n",
        "  out = model.predict(np.array(d))\n",
        "  dif = 0\n",
        "  if out[0] >= 0.9:\n",
        "    new_lat = np.average(np.array(gps_Lat))\n",
        "    new_long = np.average(np.array(gps_Long))\n",
        "    dif_lat = abs(new_lat - old_lat)\n",
        "    dif_long = abs(new_lat - old_lat)\n",
        "    if dif_lat>0.001 and dif_long >0.001:\n",
        "      m = data\n",
        "      pot+=1\n",
        "      print('\\n-----------------Pothole detected in the below location------------------')\n",
        "      print('                   Latitude: ', np.average(np.array(gps_Lat)))\n",
        "      print('                  Longitude: ', np.average(np.array(gps_Long)))\n",
        "      print('                  Confidence: ', out[0])\n",
        "    old_lat = np.average(np.array(gps_Lat))\n",
        "    old_long = np.average(np.array(gps_Long))\n",
        "  data.pop(0)\n",
        "  gps_Lat.pop(0)\n",
        "  gps_Long.pop(0)\n",
        "print('\\nDetected '+str(pot)+' potholes')\n",
        "print('------------------------Turning off pothole detector------------------------')"
      ]
    }
  ],
  "metadata": {
    "accelerator": "GPU",
    "colab": {
      "collapsed_sections": [],
      "machine_shape": "hm",
      "name": "Project_659_Training_data.ipynb",
      "provenance": []
    },
    "gpuClass": "standard",
    "kernelspec": {
      "display_name": "Python 3",
      "name": "python3"
    },
    "language_info": {
      "name": "python"
    }
  },
  "nbformat": 4,
  "nbformat_minor": 0
}